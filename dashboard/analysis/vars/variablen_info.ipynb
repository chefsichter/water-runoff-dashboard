{
 "cells": [
  {
   "metadata": {
    "ExecuteTime": {
     "end_time": "2025-03-19T15:39:42.195316Z",
     "start_time": "2025-03-19T15:39:42.188280Z"
    }
   },
   "cell_type": "code",
   "source": [
    "import xarray as xr\n",
    "import pandas as pd\n",
    "from pathlib import Path\n",
    "from tabulate import tabulate\n",
    "notebook_dir = Path().absolute()"
   ],
   "id": "1dca71212e89d2b8",
   "outputs": [],
   "execution_count": 11
  },
  {
   "metadata": {
    "collapsed": true,
    "ExecuteTime": {
     "end_time": "2025-03-19T15:40:52.649748Z",
     "start_time": "2025-03-19T15:40:52.606344Z"
    }
   },
   "cell_type": "code",
   "source": [
    "# NetCDF-Datei laden (Ersetze 'datei.nc' mit deinem Dateipfad)\n",
    "nc_data = xr.open_dataset(notebook_dir / \"CHRUN\" / \"chrun.nc\")\n",
    "\n",
    "# Metadaten auslesen\n",
    "data = []\n",
    "for var_name, var in nc_data.variables.items():\n",
    "    metadata = [\n",
    "        var_name,  # Variablenname\n",
    "        var.attrs.get(\"long_name\", \"N/A\"),  # Langname\n",
    "        var.attrs.get(\"units\", \"N/A\"),  # Einheiten\n",
    "        \", \".join(var.dims),  # Dimensionen\n",
    "        str(var.dtype),  # Datentyp\n",
    "        var.attrs.get(\"source\", \"N/A\"),  # Quelle\n",
    "        # var.attrs.get(\"references\", \"N/A\"),  # Referenzen\n",
    "        var.attrs.get(\"history\", \"N/A\"),  # Historie\n",
    "    ]\n",
    "    data.append(metadata)\n",
    "\n",
    "# \"Referenzen\" nachfolgend weggelassen\n",
    "headers = [\"Variablenname\", \"Langer Name\", \"Einheiten\", \"Dimensionen\", \"Datentyp\", \"Quelle\", \"Historie\"]\n",
    "\n",
    "# Tabelle mit tabulate ausgeben\n",
    "print(tabulate(data, headers=headers, tablefmt=\"grid\"))  # Alternativ: \"pretty\", \"fancy_grid\""
   ],
   "id": "initial_id",
   "outputs": [
    {
     "name": "stdout",
     "output_type": "stream",
     "text": [
      "+---------------------------+-------------------------------+-------------+---------------+----------------+---------------------------------------------------------------------+----------------------------------------------+\n",
      "| Variablenname             | Langer Name                   | Einheiten   | Dimensionen   | Datentyp       | Quelle                                                              | Historie                                     |\n",
      "+===========================+===============================+=============+===============+================+=====================================================================+==============================================+\n",
      "| P                         | Precipitation                 | mm d-1      | hru, time     | float32        | MeteoSwiss                                                          | Aggregated to catchment level using average. |\n",
      "+---------------------------+-------------------------------+-------------+---------------+----------------+---------------------------------------------------------------------+----------------------------------------------+\n",
      "| Qmm_mod                   | Runoff (CH-RUN)               | mm d-1      | hru, time     | float32        | CH-RUN v1.0                                                         | N/A                                          |\n",
      "+---------------------------+-------------------------------+-------------+---------------+----------------+---------------------------------------------------------------------+----------------------------------------------+\n",
      "| Qmm_prevah                | Runoff (PREVAH)               | mm d-1      | hru, time     | float32        | WSL                                                                 | N/A                                          |\n",
      "+---------------------------+-------------------------------+-------------+---------------+----------------+---------------------------------------------------------------------+----------------------------------------------+\n",
      "| T                         | Air temperature               | degC        | hru, time     | float32        | MeteoSwiss                                                          | Aggregated to catchment level using average. |\n",
      "+---------------------------+-------------------------------+-------------+---------------+----------------+---------------------------------------------------------------------+----------------------------------------------+\n",
      "| abb                       | Soil-topographic index        | -           | hru           | float32        | Derived                                                             | Aggregated to catchment level using average. |\n",
      "+---------------------------+-------------------------------+-------------+---------------+----------------+---------------------------------------------------------------------+----------------------------------------------+\n",
      "| area                      | Catchment area                | m2          | hru           | float64        | Derived                                                             |                                              |\n",
      "+---------------------------+-------------------------------+-------------+---------------+----------------+---------------------------------------------------------------------+----------------------------------------------+\n",
      "| atb                       | Hydraulic-topographic index   | -           | hru           | float32        | Derived                                                             | Aggregated to catchment level using average. |\n",
      "+---------------------------+-------------------------------+-------------+---------------+----------------+---------------------------------------------------------------------+----------------------------------------------+\n",
      "| btk                       | Soil depth                    | m           | hru           | float32        | 1) Soilgrids, 2) Hochaufloesende Bodenkarten für den Schweizer Wald | Aggregated to catchment level using average. |\n",
      "+---------------------------+-------------------------------+-------------+---------------+----------------+---------------------------------------------------------------------+----------------------------------------------+\n",
      "| dhm                       | Elevation                     | m a.s.l.    | hru           | float32        | swisstopo                                                           | Aggregated to catchment level using average. |\n",
      "+---------------------------+-------------------------------+-------------+---------------+----------------+---------------------------------------------------------------------+----------------------------------------------+\n",
      "| glm                       | Glacier morphology            | -           | hru           | float32        | SGI2016                                                             | Aggregated to catchment level using average. |\n",
      "+---------------------------+-------------------------------+-------------+---------------+----------------+---------------------------------------------------------------------+----------------------------------------------+\n",
      "| kwt                       | Hydraulic conductivity        | mm h-1      | hru           | float32        | 1) Soilgrids, 2) Hochaufloesende Bodenkarten für den Schweizer Wald | Aggregated to catchment level using average. |\n",
      "+---------------------------+-------------------------------+-------------+---------------+----------------+---------------------------------------------------------------------+----------------------------------------------+\n",
      "| pfc                       | Soil water storage capacity   | %           | hru           | float32        | 1) Soilgrids, 2) Hochaufloesende Bodenkarten für den Schweizer Wald | Aggregated to catchment level using average. |\n",
      "+---------------------------+-------------------------------+-------------+---------------+----------------+---------------------------------------------------------------------+----------------------------------------------+\n",
      "| frac_water                | Water fraction                | -           | hru           | float32        | 1) Habitat Map of Switzerland 2) WSL                                | N/A                                          |\n",
      "+---------------------------+-------------------------------+-------------+---------------+----------------+---------------------------------------------------------------------+----------------------------------------------+\n",
      "| frac_urban_areas          | Urban areas fraction          | -           | hru           | float32        | 1) Habitat Map of Switzerland 2) WSL                                | N/A                                          |\n",
      "+---------------------------+-------------------------------+-------------+---------------+----------------+---------------------------------------------------------------------+----------------------------------------------+\n",
      "| frac_coniferous_forests   | Coniferous forests fraction   | -           | hru           | float32        | 1) Habitat Map of Switzerland 2) WSL                                | N/A                                          |\n",
      "+---------------------------+-------------------------------+-------------+---------------+----------------+---------------------------------------------------------------------+----------------------------------------------+\n",
      "| frac_deciduous_forests    | Deciduous forests fraction    | -           | hru           | float32        | 1) Habitat Map of Switzerland 2) WSL                                | N/A                                          |\n",
      "+---------------------------+-------------------------------+-------------+---------------+----------------+---------------------------------------------------------------------+----------------------------------------------+\n",
      "| frac_mixed_forests        | Mixed forests fraction        | -           | hru           | float32        | 1) Habitat Map of Switzerland 2) WSL                                | N/A                                          |\n",
      "+---------------------------+-------------------------------+-------------+---------------+----------------+---------------------------------------------------------------------+----------------------------------------------+\n",
      "| frac_cereals              | Cereals fraction              | -           | hru           | float32        | 1) Habitat Map of Switzerland 2) WSL                                | N/A                                          |\n",
      "+---------------------------+-------------------------------+-------------+---------------+----------------+---------------------------------------------------------------------+----------------------------------------------+\n",
      "| frac_pasture              | Pasture fraction              | -           | hru           | float32        | 1) Habitat Map of Switzerland 2) WSL                                | N/A                                          |\n",
      "+---------------------------+-------------------------------+-------------+---------------+----------------+---------------------------------------------------------------------+----------------------------------------------+\n",
      "| frac_bush                 | Bush fraction                 | -           | hru           | float32        | 1) Habitat Map of Switzerland 2) WSL                                | N/A                                          |\n",
      "+---------------------------+-------------------------------+-------------+---------------+----------------+---------------------------------------------------------------------+----------------------------------------------+\n",
      "| frac_unknown              | Unknown fraction              | -           | hru           | float32        | 1) Habitat Map of Switzerland 2) WSL                                | N/A                                          |\n",
      "+---------------------------+-------------------------------+-------------+---------------+----------------+---------------------------------------------------------------------+----------------------------------------------+\n",
      "| frac_firn                 | Firn fraction                 | -           | hru           | float32        | 1) Habitat Map of Switzerland 2) WSL                                | N/A                                          |\n",
      "+---------------------------+-------------------------------+-------------+---------------+----------------+---------------------------------------------------------------------+----------------------------------------------+\n",
      "| frac_bare_ice             | Bare ice fraction             | -           | hru           | float32        | 1) Habitat Map of Switzerland 2) WSL                                | N/A                                          |\n",
      "+---------------------------+-------------------------------+-------------+---------------+----------------+---------------------------------------------------------------------+----------------------------------------------+\n",
      "| frac_rock                 | Rock fraction                 | -           | hru           | float32        | 1) Habitat Map of Switzerland 2) WSL                                | N/A                                          |\n",
      "+---------------------------+-------------------------------+-------------+---------------+----------------+---------------------------------------------------------------------+----------------------------------------------+\n",
      "| frac_vegetables           | Vegetables fraction           | -           | hru           | float32        | 1) Habitat Map of Switzerland 2) WSL                                | N/A                                          |\n",
      "+---------------------------+-------------------------------+-------------+---------------+----------------+---------------------------------------------------------------------+----------------------------------------------+\n",
      "| frac_alpine_vegetation    | Alpine vegetation fraction    | -           | hru           | float32        | 1) Habitat Map of Switzerland 2) WSL                                | N/A                                          |\n",
      "+---------------------------+-------------------------------+-------------+---------------+----------------+---------------------------------------------------------------------+----------------------------------------------+\n",
      "| frac_wetlands             | Wetlands fraction             | -           | hru           | float32        | 1) Habitat Map of Switzerland 2) WSL                                | N/A                                          |\n",
      "+---------------------------+-------------------------------+-------------+---------------+----------------+---------------------------------------------------------------------+----------------------------------------------+\n",
      "| frac_sub_Alpine_meadow    | Sub alpine meadow fraction    | -           | hru           | float32        | 1) Habitat Map of Switzerland 2) WSL                                | N/A                                          |\n",
      "+---------------------------+-------------------------------+-------------+---------------+----------------+---------------------------------------------------------------------+----------------------------------------------+\n",
      "| frac_alpine_meadow        | Alpine meadow fraction        | -           | hru           | float32        | 1) Habitat Map of Switzerland 2) WSL                                | N/A                                          |\n",
      "+---------------------------+-------------------------------+-------------+---------------+----------------+---------------------------------------------------------------------+----------------------------------------------+\n",
      "| frac_bare_soil_vegetation | Bare soil vegetation fraction | -           | hru           | float32        | 1) Habitat Map of Switzerland 2) WSL                                | N/A                                          |\n",
      "+---------------------------+-------------------------------+-------------+---------------+----------------+---------------------------------------------------------------------+----------------------------------------------+\n",
      "| frac_grapes               | Grapes fraction               | -           | hru           | float32        | 1) Habitat Map of Switzerland 2) WSL                                | N/A                                          |\n",
      "+---------------------------+-------------------------------+-------------+---------------+----------------+---------------------------------------------------------------------+----------------------------------------------+\n",
      "| slp                       | Slope                         | deg         | hru           | float32        | Derived                                                             | Aggregated to catchment level using average. |\n",
      "+---------------------------+-------------------------------+-------------+---------------+----------------+---------------------------------------------------------------------+----------------------------------------------+\n",
      "| hru                       | N/A                           | N/A         | hru           | <U7            | N/A                                                                 | N/A                                          |\n",
      "+---------------------------+-------------------------------+-------------+---------------+----------------+---------------------------------------------------------------------+----------------------------------------------+\n",
      "| time                      | N/A                           | N/A         | time          | datetime64[ns] | N/A                                                                 | N/A                                          |\n",
      "+---------------------------+-------------------------------+-------------+---------------+----------------+---------------------------------------------------------------------+----------------------------------------------+\n"
     ]
    }
   ],
   "execution_count": 13
  },
  {
   "metadata": {
    "ExecuteTime": {
     "end_time": "2025-03-19T16:19:51.970619Z",
     "start_time": "2025-03-19T16:19:51.952231Z"
    }
   },
   "cell_type": "code",
   "source": [
    "print(\"Dimensionen:\", nc_data.dims)\n",
    "print(\"Koordinaten:\", nc_data.coords)\n",
    "print(\"Variablen:\", nc_data.data_vars)\n"
   ],
   "id": "8faf6707687ab09",
   "outputs": [
    {
     "name": "stdout",
     "output_type": "stream",
     "text": [
      "Dimensionen: FrozenMappingWarningOnValuesAccess({'hru': 307, 'time': 22645})\n",
      "Koordinaten: Coordinates:\n",
      "  * hru      (hru) <U7 9kB 'HSU_001' 'HSU_002' 'HSU_003' ... 'HSU_306' 'HSU_307'\n",
      "  * time     (time) datetime64[ns] 181kB 1962-01-01 1962-01-02 ... 2023-12-31\n",
      "Variablen: Data variables:\n",
      "    P                          (hru, time) float32 28MB ...\n",
      "    Qmm_mod                    (hru, time) float32 28MB ...\n",
      "    Qmm_prevah                 (hru, time) float32 28MB ...\n",
      "    T                          (hru, time) float32 28MB ...\n",
      "    abb                        (hru) float32 1kB ...\n",
      "    area                       (hru) float64 2kB ...\n",
      "    atb                        (hru) float32 1kB ...\n",
      "    btk                        (hru) float32 1kB ...\n",
      "    dhm                        (hru) float32 1kB ...\n",
      "    glm                        (hru) float32 1kB ...\n",
      "    kwt                        (hru) float32 1kB ...\n",
      "    pfc                        (hru) float32 1kB ...\n",
      "    frac_water                 (hru) float32 1kB ...\n",
      "    frac_urban_areas           (hru) float32 1kB ...\n",
      "    frac_coniferous_forests    (hru) float32 1kB ...\n",
      "    frac_deciduous_forests     (hru) float32 1kB ...\n",
      "    frac_mixed_forests         (hru) float32 1kB ...\n",
      "    frac_cereals               (hru) float32 1kB ...\n",
      "    frac_pasture               (hru) float32 1kB ...\n",
      "    frac_bush                  (hru) float32 1kB ...\n",
      "    frac_unknown               (hru) float32 1kB ...\n",
      "    frac_firn                  (hru) float32 1kB ...\n",
      "    frac_bare_ice              (hru) float32 1kB ...\n",
      "    frac_rock                  (hru) float32 1kB ...\n",
      "    frac_vegetables            (hru) float32 1kB ...\n",
      "    frac_alpine_vegetation     (hru) float32 1kB ...\n",
      "    frac_wetlands              (hru) float32 1kB ...\n",
      "    frac_sub_Alpine_meadow     (hru) float32 1kB ...\n",
      "    frac_alpine_meadow         (hru) float32 1kB ...\n",
      "    frac_bare_soil_vegetation  (hru) float32 1kB ...\n",
      "    frac_grapes                (hru) float32 1kB ...\n",
      "    slp                        (hru) float32 1kB ...\n"
     ]
    }
   ],
   "execution_count": 14
  }
 ],
 "metadata": {
  "kernelspec": {
   "display_name": "Python 3",
   "language": "python",
   "name": "python3"
  },
  "language_info": {
   "codemirror_mode": {
    "name": "ipython",
    "version": 2
   },
   "file_extension": ".py",
   "mimetype": "text/x-python",
   "name": "python",
   "nbconvert_exporter": "python",
   "pygments_lexer": "ipython2",
   "version": "2.7.6"
  }
 },
 "nbformat": 4,
 "nbformat_minor": 5
}
