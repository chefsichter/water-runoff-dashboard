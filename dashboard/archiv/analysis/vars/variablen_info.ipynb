{
 "cells": [
  {
   "cell_type": "code",
   "execution_count": null,
   "id": "0",
   "metadata": {},
   "outputs": [],
   "source": [
    "import xarray as xr\n",
    "import pandas as pd\n",
    "from pathlib import Path\n",
    "from tabulate import tabulate"
   ]
  },
  {
   "cell_type": "code",
   "execution_count": null,
   "id": "1",
   "metadata": {},
   "outputs": [],
   "source": [
    "# NetCDF-Datei laden (Ersetze 'datei.nc' mit deinem Dateipfad)\n",
    "root_dir = Path(\"..\").resolve().parent.parent\n",
    "dir = root_dir  / \"data\" / \"CHRUN\" / \"chrun.nc\"\n",
    "nc_data = xr.open_dataset(dir)\n",
    "\n",
    "# Metadaten auslesen\n",
    "data = []\n",
    "for var_name, var in nc_data.variables.items():\n",
    "    metadata = [\n",
    "        var_name,  # Variablenname\n",
    "        var.attrs.get(\"long_name\", \"N/A\"),  # Langname\n",
    "        var.attrs.get(\"units\", \"N/A\"),  # Einheiten\n",
    "        \", \".join(var.dims),  # Dimensionen\n",
    "        str(var.dtype),  # Datentyp\n",
    "        var.attrs.get(\"source\", \"N/A\"),  # Quelle\n",
    "        # var.attrs.get(\"references\", \"N/A\"),  # Referenzen\n",
    "        var.attrs.get(\"history\", \"N/A\"),  # Historie\n",
    "    ]\n",
    "    data.append(metadata)\n",
    "\n",
    "# \"Referenzen\" nachfolgend weggelassen\n",
    "headers = [\"Variablenname\", \"Langer Name\", \"Einheiten\", \"Dimensionen\", \"Datentyp\", \"Quelle\", \"Historie\"]\n",
    "\n",
    "# Tabelle mit tabulate ausgeben\n",
    "print(tabulate(data, headers=headers, tablefmt=\"grid\"))  # Alternativ: \"pretty\", \"fancy_grid\""
   ]
  },
  {
   "cell_type": "code",
   "execution_count": null,
   "id": "2",
   "metadata": {},
   "outputs": [],
   "source": [
    "print(\"Dimensionen:\", nc_data.dims)\n",
    "print(\"Koordinaten:\", nc_data.coords)\n",
    "print(\"Variablen:\", nc_data.data_vars)\n"
   ]
  }
 ],
 "metadata": {
  "kernelspec": {
   "display_name": "Python 3",
   "language": "python",
   "name": "python3"
  },
  "language_info": {
   "codemirror_mode": {
    "name": "ipython",
    "version": 2
   },
   "file_extension": ".py",
   "mimetype": "text/x-python",
   "name": "python",
   "nbconvert_exporter": "python",
   "pygments_lexer": "ipython2",
   "version": "2.7.6"
  }
 },
 "nbformat": 4,
 "nbformat_minor": 5
}
