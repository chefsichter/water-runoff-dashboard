{
 "cells": [
  {
   "cell_type": "code",
   "execution_count": null,
   "id": "0",
   "metadata": {},
   "outputs": [],
   "source": [
    "import geopandas as gpd\n",
    "import matplotlib.pyplot as plt\n",
    "import numpy as np\n",
    "import xarray as xr\n",
    "import netCDF4\n",
    "from pathlib import Path"
   ]
  },
  {
   "cell_type": "code",
   "execution_count": null,
   "id": "1",
   "metadata": {},
   "outputs": [],
   "source": [
    "root_dir = Path(\"..\").resolve()\n",
    "gdf = gpd.read_file(root_dir / \"data\" / \"CHRUN\" / \"catchments\" / \"catchments.shp\")\n",
    "print(\"Coordinate System:\", gdf.crs)\n",
    "print(\"Oringin: Bern (600km, 200km)\")\n",
    "print(\"Fields:\", gdf.columns)\n",
    "print(\"HRU: Hydrological Response Unit (Area with same characteristics)\")\n",
    "gdf"
   ]
  },
  {
   "cell_type": "code",
   "execution_count": null,
   "id": "2",
   "metadata": {},
   "outputs": [],
   "source": [
    "fig, ax = plt.subplots(figsize=(10, 10))\n",
    "color = np.random.rand(len(gdf), 3)\n",
    "gdf.plot(ax = ax, color = color, edgecolor='black')\n",
    "\n",
    "plt.title(\"Catchment Areas\", fontsize=14)\n",
    "\n",
    "x_ticks = ax.get_xticks()\n",
    "y_ticks = ax.get_yticks()\n",
    "ax.set_xticks(x_ticks)\n",
    "ax.set_yticks(y_ticks)\n",
    "ax.set_xticklabels([f\"{int(x)} km\" for x in x_ticks / 1000])\n",
    "ax.set_yticklabels([f\"{int(y)} km\" for y in y_ticks / 1000])"
   ]
  },
  {
   "cell_type": "code",
   "execution_count": null,
   "id": "3",
   "metadata": {},
   "outputs": [],
   "source": [
    "nc_data = xr.open_dataset(root_dir / \"data\" / \"CHRUN\" / \"chrun.nc\")\n",
    "nc_data"
   ]
  },
  {
   "cell_type": "code",
   "execution_count": null,
   "id": "4",
   "metadata": {},
   "outputs": [],
   "source": [
    "print(nc_data[\"frac_urban_areas\"].values)"
   ]
  },
  {
   "cell_type": "code",
   "execution_count": null,
   "id": "5",
   "metadata": {},
   "outputs": [],
   "source": [
    "import xarray as xr\n",
    "\n",
    "# NetCDF-Datei laden\n",
    "nc_data = xr.open_dataset(root_dir / \"data\" / \"CHRUN\" / \"chrun.nc\")\n",
    "\n",
    "# Liste der Variablen mit long_name\n",
    "variables_with_long_name = {var: nc_data[var].attrs.get(\"long_name\", \"Kein long_name vorhanden\") for var in nc_data.data_vars}\n",
    "\n",
    "# Ausgabe der Liste\n",
    "for var, long_name in variables_with_long_name.items():\n",
    "    print(f\"{var}: {long_name}\")\n"
   ]
  }
 ],
 "metadata": {
  "kernelspec": {
   "display_name": "ai4good",
   "language": "python",
   "name": "python3"
  },
  "language_info": {
   "codemirror_mode": {
    "name": "ipython",
    "version": 3
   },
   "file_extension": ".py",
   "mimetype": "text/x-python",
   "name": "python",
   "nbconvert_exporter": "python",
   "pygments_lexer": "ipython3",
   "version": "3.11.7"
  }
 },
 "nbformat": 4,
 "nbformat_minor": 5
}
